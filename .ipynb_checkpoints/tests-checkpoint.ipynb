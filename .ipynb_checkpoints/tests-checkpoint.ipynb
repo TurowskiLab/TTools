{
 "cells": [
  {
   "cell_type": "code",
   "execution_count": 30,
   "id": "6fb467f3",
   "metadata": {},
   "outputs": [
    {
     "data": {
      "text/plain": [
       "[('3', 'S'), ('10', 'M'), ('1', 'I'), ('19', 'M'), ('2', 'S')]"
      ]
     },
     "execution_count": 30,
     "metadata": {},
     "output_type": "execute_result"
    }
   ],
   "source": [
    "import os, collections, shutil, re\n",
    "import TTools as tt\n",
    "import numpy as np\n",
    "\n",
    "### support functions ###\n",
    "def groupCIGAR(cigar_string=\"\"):\n",
    "    return re.findall(r'(\\d+)([A-Z]{1})', cigar_string)\n",
    "\n",
    "def stripSubstitutions(match):\n",
    "    '''Strip substutiotns on both ends\n",
    "\n",
    "    :param match: output from groupCIGAR (list of tuples)\n",
    "    :type match: list\n",
    "    :return: list of tuples\n",
    "    :rtype: list\n",
    "    '''\n",
    "    if \"S\" in match[0]:\n",
    "        match = match[1:]\n",
    "    if \"S\" in match[-1]:\n",
    "        match = match[:-1]\n",
    "    return match\n",
    "\n",
    "CIGAR = '3S10M1I19M2S'\n",
    "\n",
    "match = groupCIGAR(CIGAR)\n",
    "match"
   ]
  },
  {
   "cell_type": "code",
   "execution_count": 31,
   "id": "2b2bf28a",
   "metadata": {},
   "outputs": [
    {
     "data": {
      "text/plain": [
       "3"
      ]
     },
     "execution_count": 31,
     "metadata": {},
     "output_type": "execute_result"
    }
   ],
   "source": [
    "def stripSubstitutions(match):\n",
    "    '''Strip substutiotns on both ends\n",
    "\n",
    "    :param match: output from groupCIGAR (list of tuples)\n",
    "    :type match: list\n",
    "    :return: list of tuples\n",
    "    :rtype: _type_\n",
    "    '''\n",
    "    if \"S\" in match[0]:\n",
    "        match = match[1:]\n",
    "    if \"S\" in match[-1]:\n",
    "        match = match[:-1]\n",
    "    return match\n",
    "\n",
    "def tostripCIGARfive(match=[]):\n",
    "    '''Nucleotides without alignment at the 5' end of the read\n",
    "\n",
    "    :param match: output from groupCIGAR (list of tuples)\n",
    "    :type match: list\n",
    "    :return: number of substituted nucleotides\n",
    "    :rtype: int\n",
    "    '''\n",
    "    if \"S\" in match[0]:\n",
    "        return int(match[0][0])\n",
    "    else:\n",
    "        return None\n",
    "    \n",
    "tostripCIGARfive(match)"
   ]
  },
  {
   "cell_type": "code",
   "execution_count": 33,
   "id": "90df5a55",
   "metadata": {},
   "outputs": [
    {
     "data": {
      "text/plain": [
       "array([13, 14, 15, 16, 17, 18, 19, 20, 21, 22, 23, 24, 25, 26, 27, 28, 29,\n",
       "       30, 31, 32, 33, 34, 35, 36, 37, 38, 39, 40, 41, 42])"
      ]
     },
     "execution_count": 33,
     "metadata": {},
     "output_type": "execute_result"
    }
   ],
   "source": [
    "def countRead(i=tuple()):\n",
    "    ''' Takes tuple (position,CIGARstring) and returns list of mapped positions'''\n",
    "    (position, cigar_string) = i\n",
    "    match = groupCIGAR(cigar_string)\n",
    "    # stripping substitutions\n",
    "    strip_shift = tostripCIGARfive(match)\n",
    "    match = stripSubstitutions(match)\n",
    "\n",
    "    # outputs\n",
    "    length = sum([int(i) for i, x in match])\n",
    "    output = np.arange(length, dtype=int)\n",
    "    return output + position + strip_shift\n",
    "\n",
    "countRead((10,CIGAR))"
   ]
  },
  {
   "cell_type": "code",
   "execution_count": 17,
   "id": "db9cd6d9",
   "metadata": {},
   "outputs": [
    {
     "data": {
      "text/plain": [
       "[('80', 'M'), ('1', 'I'), ('19', 'M')]"
      ]
     },
     "execution_count": 17,
     "metadata": {},
     "output_type": "execute_result"
    }
   ],
   "source": []
  },
  {
   "cell_type": "code",
   "execution_count": null,
   "id": "7dd5c187",
   "metadata": {},
   "outputs": [],
   "source": []
  }
 ],
 "metadata": {
  "kernelspec": {
   "display_name": "Python 3",
   "language": "python",
   "name": "python3"
  },
  "language_info": {
   "codemirror_mode": {
    "name": "ipython",
    "version": 3
   },
   "file_extension": ".py",
   "mimetype": "text/x-python",
   "name": "python",
   "nbconvert_exporter": "python",
   "pygments_lexer": "ipython3",
   "version": "3.6.13"
  }
 },
 "nbformat": 4,
 "nbformat_minor": 5
}
